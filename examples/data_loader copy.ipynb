{
 "cells": [
  {
   "cell_type": "code",
   "execution_count": 2,
   "metadata": {},
   "outputs": [],
   "source": [
    "\n",
    "import ipyvolume as ipv\n",
    "\n",
    "\n",
    "\n"
   ]
  },
  {
   "cell_type": "code",
   "execution_count": 28,
   "metadata": {},
   "outputs": [],
   "source": []
  },
  {
   "cell_type": "code",
   "execution_count": 29,
   "metadata": {},
   "outputs": [
    {
     "name": "stdout",
     "output_type": "stream",
     "text": [
      "Loading Studies\n"
     ]
    },
    {
     "name": "stderr",
     "output_type": "stream",
     "text": [
      "  1%|▏         | 99/7279 [03:48<4:36:27,  2.31s/it]\n"
     ]
    },
    {
     "name": "stdout",
     "output_type": "stream",
     "text": [
      "Saving Studies\n"
     ]
    }
   ],
   "source": [
    "rsna_loader = RSNADataPreprocessing(dataset_path = os.path.join('/share/pi/nigam/data/RSNAPE/'))\n",
    "split       = \"train\"\n",
    "rsna_loader.load_studies(split=split)\n",
    "\n",
    "#data_split  = rsna_loader.read_splits_(split=split)\n",
    "#studies     = rsna_loader.get_unique_studies_(data_split)\n",
    "#data_point  = rsna_loader.load_study_(split=split  ,df=data_split,study_uid=studies[0])"
   ]
  },
  {
   "cell_type": "code",
   "execution_count": null,
   "metadata": {},
   "outputs": [],
   "source": [
    "ipv.quickvolshow(dicoms, level=[0.25, 0.75], opacity=0.03, level_width=0.1, data_min=np.min(dicoms), data_max=np.max(dicoms))"
   ]
  }
 ],
 "metadata": {
  "kernelspec": {
   "display_name": "pe_env",
   "language": "python",
   "name": "python3"
  },
  "language_info": {
   "codemirror_mode": {
    "name": "ipython",
    "version": 3
   },
   "file_extension": ".py",
   "mimetype": "text/x-python",
   "name": "python",
   "nbconvert_exporter": "python",
   "pygments_lexer": "ipython3",
   "version": "3.9.18"
  },
  "orig_nbformat": 4
 },
 "nbformat": 4,
 "nbformat_minor": 2
}
