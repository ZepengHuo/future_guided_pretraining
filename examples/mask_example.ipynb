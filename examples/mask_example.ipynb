{
 "cells": [
  {
   "cell_type": "code",
   "execution_count": 2,
   "metadata": {},
   "outputs": [],
   "source": [
    "import os \n",
    "import numpy as np \n",
    "import nibabel as nib\n",
    "from totalsegmentator.python_api import totalsegmentator\n",
    "import ipyvolume as ipv\n",
    "from pe.utils.crop_utils import get_bbox_from_mask,crop_to_bbox\n"
   ]
  },
  {
   "cell_type": "code",
   "execution_count": 3,
   "metadata": {},
   "outputs": [],
   "source": [
    "mask_roi = [\"lung_lower_lobe_left.nii.gz\",\n",
    "            \"lung_lower_lobe_right.nii.gz\" ,\n",
    "            \"lung_middle_lobe_right.nii.gz\" , \n",
    "            \"lung_upper_lobe_left.nii.gz\" ,\n",
    "            \"lung_upper_lobe_right.nii.gz\" ,\n",
    "            \"pulmonary_artery.nii.gz\"]"
   ]
  },
  {
   "cell_type": "code",
   "execution_count": 4,
   "metadata": {},
   "outputs": [],
   "source": [
    "for i,mask_name in enumerate(mask_roi):\n",
    "    path            = f\"/share/pi/nigam/data/RSNAPE/masks/test/e8638ffea9f2/7c2f91a39cfa/{mask_name}\"\n",
    "    mask_volume_nib =  nib.load(path)\n",
    "    if i == 0:\n",
    "        mask_volume     = np.array(mask_volume_nib .dataobj)\n",
    "    else:\n",
    "        mask_volume     += np.array(mask_volume_nib .dataobj)\n",
    "   "
   ]
  },
  {
   "cell_type": "code",
   "execution_count": 6,
   "metadata": {},
   "outputs": [],
   "source": [
    "\n",
    "path_2   = \"/share/pi/nigam/data/RSNAPE/nifti/test/e8638ffea9f2/7c2f91a39cfa/4.nii.gz\"\n",
    "img_2    = nib.load(path_2)\n",
    "array_2  = np.array(img_2.dataobj)\n"
   ]
  },
  {
   "cell_type": "code",
   "execution_count": null,
   "metadata": {},
   "outputs": [
    {
     "name": "stderr",
     "output_type": "stream",
     "text": [
      "/share/pi/nigam/alejandro/envs/pe_env/lib/python3.9/site-packages/ipyvolume/serialize.py:102: RuntimeWarning: invalid value encountered in cast\n",
      "  subdata[..., i] = ((gradient[i][zindex] / 2.0 + 0.5) * 255).astype(np.uint8)\n"
     ]
    },
    {
     "data": {
      "application/vnd.jupyter.widget-view+json": {
       "model_id": "0f99d5b80c9540f88170affd6a27070a",
       "version_major": 2,
       "version_minor": 0
      },
      "text/plain": [
       "Container(children=[VBox(children=(HBox(children=(Label(value='levels:'), FloatSlider(value=0.25, max=1.0, ste…"
      ]
     },
     "execution_count": 4,
     "metadata": {},
     "output_type": "execute_result"
    }
   ],
   "source": [
    "ipv.quickvolshow(array , level=[0.25, 0.75], opacity=0.03, level_width=0.1, data_min=np.min(array ), data_max=np.max(array ))"
   ]
  },
  {
   "cell_type": "code",
   "execution_count": 6,
   "metadata": {},
   "outputs": [],
   "source": [
    "\n",
    "\n",
    "\n"
   ]
  },
  {
   "cell_type": "code",
   "execution_count": 7,
   "metadata": {},
   "outputs": [],
   "source": [
    "box = get_bbox_from_mask(mask=mask_volume, outside_value=0, addon=0)\n",
    "new_array = crop_to_bbox(image=array_2, bbox=box )"
   ]
  },
  {
   "cell_type": "code",
   "execution_count": null,
   "metadata": {},
   "outputs": [],
   "source": []
  },
  {
   "cell_type": "code",
   "execution_count": 8,
   "metadata": {},
   "outputs": [
    {
     "data": {
      "text/plain": [
       "(388, 279, 109)"
      ]
     },
     "execution_count": 8,
     "metadata": {},
     "output_type": "execute_result"
    }
   ],
   "source": [
    "new_array.shape"
   ]
  },
  {
   "cell_type": "code",
   "execution_count": 9,
   "metadata": {},
   "outputs": [
    {
     "data": {
      "application/vnd.jupyter.widget-view+json": {
       "model_id": "086bb7ba79ff4141bb37d07b8ed848f9",
       "version_major": 2,
       "version_minor": 0
      },
      "text/plain": [
       "Container(children=[VBox(children=(HBox(children=(Label(value='levels:'), FloatSlider(value=0.25, max=1.0, ste…"
      ]
     },
     "execution_count": 9,
     "metadata": {},
     "output_type": "execute_result"
    }
   ],
   "source": [
    "ipv.quickvolshow(new_array , level=[0.25, 0.75], opacity=0.03, level_width=0.1, data_min=np.min(new_array), data_max=np.max(new_array ))"
   ]
  },
  {
   "cell_type": "code",
   "execution_count": null,
   "metadata": {},
   "outputs": [],
   "source": []
  }
 ],
 "metadata": {
  "kernelspec": {
   "display_name": "pe_env",
   "language": "python",
   "name": "python3"
  },
  "language_info": {
   "codemirror_mode": {
    "name": "ipython",
    "version": 3
   },
   "file_extension": ".py",
   "mimetype": "text/x-python",
   "name": "python",
   "nbconvert_exporter": "python",
   "pygments_lexer": "ipython3",
   "version": "3.9.18"
  },
  "orig_nbformat": 4
 },
 "nbformat": 4,
 "nbformat_minor": 2
}
