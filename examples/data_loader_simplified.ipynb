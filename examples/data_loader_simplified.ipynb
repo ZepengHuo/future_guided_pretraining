{
 "cells": [
  {
   "cell_type": "code",
   "execution_count": 4,
   "metadata": {},
   "outputs": [],
   "source": [
    "from pe.datatasets.data_loaders.rsna_pe_simple import NiftiDataset\n",
    "from torch.utils.data import  DataLoader\n",
    "import torch "
   ]
  },
  {
   "cell_type": "code",
   "execution_count": 5,
   "metadata": {},
   "outputs": [],
   "source": [
    "csv_file = '/share/pi/nigam/data/RSNAPE/simplified_labels/train.csv'\n",
    "root_dir = '/share/pi/nigam/data/RSNAPE/nifti_crop/'\n",
    "\n",
    "nifti_dataset = NiftiDataset(csv_file=csv_file, root_dir=root_dir)\n",
    "data_loader   = DataLoader(nifti_dataset, batch_size=1, shuffle=True) # You can specify batch size, shuffle, and other DataLoader options here.\n",
    "\n",
    "for batch in data_loader:\n",
    "    break\n",
    "\n",
    "array, labels = batch['nifti_data'], batch['label']\n",
    "array =  torch.squeeze(array, dim=0)\n",
    "array = array.numpy()\n",
    "\n",
    "    "
   ]
  },
  {
   "cell_type": "code",
   "execution_count": 8,
   "metadata": {},
   "outputs": [
    {
     "name": "stderr",
     "output_type": "stream",
     "text": [
      "/share/pi/nigam/alejandro/envs/pe_env/lib/python3.9/site-packages/ipyvolume/serialize.py:102: RuntimeWarning: invalid value encountered in cast\n",
      "  subdata[..., i] = ((gradient[i][zindex] / 2.0 + 0.5) * 255).astype(np.uint8)\n"
     ]
    },
    {
     "data": {
      "application/vnd.jupyter.widget-view+json": {
       "model_id": "25acf0baf0ab4cbeb906a23cc284df80",
       "version_major": 2,
       "version_minor": 0
      },
      "text/plain": [
       "Container(children=[VBox(children=(HBox(children=(Label(value='levels:'), FloatSlider(value=0.25, max=1.0, ste…"
      ]
     },
     "execution_count": 8,
     "metadata": {},
     "output_type": "execute_result"
    }
   ],
   "source": [
    "import os \n",
    "import numpy as np \n",
    "import nibabel as nib\n",
    "from totalsegmentator.python_api import totalsegmentator\n",
    "import ipyvolume as ipv\n",
    "from pe.utils.crop_utils import get_bbox_from_mask,crop_to_bbox\n",
    "ipv.quickvolshow(array , level=[0.25, 0.75], opacity=0.03, level_width=0.1, data_min=np.min(array ), data_max=np.max(array ))\n"
   ]
  }
 ],
 "metadata": {
  "kernelspec": {
   "display_name": "pe_env",
   "language": "python",
   "name": "python3"
  },
  "language_info": {
   "codemirror_mode": {
    "name": "ipython",
    "version": 3
   },
   "file_extension": ".py",
   "mimetype": "text/x-python",
   "name": "python",
   "nbconvert_exporter": "python",
   "pygments_lexer": "ipython3",
   "version": "3.9.18"
  }
 },
 "nbformat": 4,
 "nbformat_minor": 2
}
